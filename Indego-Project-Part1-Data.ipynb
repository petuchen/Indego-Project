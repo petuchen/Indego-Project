{
 "cells": [
  {
   "cell_type": "code",
   "execution_count": 1,
   "metadata": {
    "collapsed": true
   },
   "outputs": [],
   "source": [
    "import numpy as np\n",
    "import pandas as pd\n",
    "import os\n",
    "import requests, zipfile, io, glob\n",
    "from datetime import datetime"
   ]
  },
  {
   "cell_type": "markdown",
   "metadata": {},
   "source": [
    "### Download data directly from Indego website"
   ]
  },
  {
   "cell_type": "code",
   "execution_count": 2,
   "metadata": {
    "collapsed": true
   },
   "outputs": [],
   "source": [
    "url_head = \"http://u626n26h74f16ig1p3pt0f2g-wpengine.netdna-ssl.com/wp-content/uploads/\"\n",
    "file_list = [\"2018/04/indego-trips-2018-q1.csv.zip\",\n",
    "             \"2018/01/indego-trips-2017-q4.csv.zip\",\n",
    "             \"2015/12/indego-trips-2017-q3.csv.zip\",\n",
    "             \"2017/07/indego_gbfs_trips_Q2_2017.csv.zip\",\n",
    "             \"2017/04/indego_gbfs_trips_Q1_2017.zip\",\n",
    "             \"2017/01/Indego_trips_Q4_2016.zip\",\n",
    "             \"2016/10/Q3_2016_trips.zip\",\n",
    "             \"2016/07/Indego_Trips_2016Q2.zip\",\n",
    "             \"2016/07/Indego_Trips_2016Q1.zip\",\n",
    "             \"2016/01/Indego_Trips_2015Q4.zip\",\n",
    "             \"2016/01/Indego_Trips_2015Q3.zip\",\n",
    "             \"2016/01/Indego_Trips_2015Q2.zip\"]"
   ]
  },
  {
   "cell_type": "markdown",
   "metadata": {},
   "source": [
    "* Note that 2017Q4 csv file name is \"data/indego-quarter-echo.bicycletransit.com-2018-01-19-9-57 AM.csv\""
   ]
  },
  {
   "cell_type": "code",
   "execution_count": 3,
   "metadata": {
    "collapsed": true
   },
   "outputs": [],
   "source": [
    "data_path = \"data/\"\n",
    "if not os.path.exists(data_path):\n",
    "    os.makedirs(data_path)"
   ]
  },
  {
   "cell_type": "code",
   "execution_count": 4,
   "metadata": {
    "collapsed": true
   },
   "outputs": [],
   "source": [
    "headers = {'User-Agent':'Mozilla/5.0 (Windows NT 6.1; WOW64; rv:23.0) Gecko/20100101 Firefox/23.0'}"
   ]
  },
  {
   "cell_type": "code",
   "execution_count": 5,
   "metadata": {
    "collapsed": true
   },
   "outputs": [],
   "source": [
    "for file in file_list:\n",
    "#    if not os.path.exists(data_path + file.split(\"/\")[-1]):\n",
    "    url = url_head + file\n",
    "    r = requests.get(url, stream=True, headers=headers)\n",
    "#     print(io.BytesIO(r.content))\n",
    "    z = zipfile.ZipFile(io.BytesIO(r.content))\n",
    "    z.extractall(data_path)"
   ]
  },
  {
   "cell_type": "markdown",
   "metadata": {
    "collapsed": true
   },
   "source": [
    "### Data Format\n",
    "\n",
    "https://www.rideindego.com/about/data/\n",
    "\n",
    "Each .csv file contains data for one quarter of the year. Each file contains the following data points:\n",
    "\n",
    "- trip_id: Locally unique integer that identifies the trip\n",
    "- duration: Length of trip in minutes (some are in seconds)\n",
    "- start_time: The date/time when the trip began, presented in ISO 8601 format in local time\n",
    "- end_time: The date/time when the trip ended, presented in ISO 8601 format in local time\n",
    "- start_station: The station ID where the trip originated (for station name and more information on each station see the Station Table)\n",
    "- start_lat: The latitude of the station where the trip originated\n",
    "- start_lon: The longitude of the station where the trip originated\n",
    "- end_station: The station ID where the trip terminated (for station name and more information on each station see the Station Table)\n",
    "- end_lat: The latitude of the station where the trip terminated\n",
    "- end_lon: The longitude of the station where the trip terminated\n",
    "- bike_id:  Locally unique integer that identifies the bike\n",
    "- plan_duration: The number of days that the plan the passholder is using entitles them to ride; 0 is used for a single ride plan (Walk-up)\n",
    "- trip_route_category: “Round Trip” for trips starting and ending at the same station or “One Way” for all other trips\n",
    "- passholder_type: The name of the passholder’s plan\n"
   ]
  },
  {
   "cell_type": "markdown",
   "metadata": {},
   "source": [
    "### Check the csv files"
   ]
  },
  {
   "cell_type": "code",
   "execution_count": 3,
   "metadata": {},
   "outputs": [
    {
     "name": "stdout",
     "output_type": "stream",
     "text": [
      " 1972680\n",
      "==> data/Indego_Trips_2015Q2.csv <==\n",
      "trip_id,duration,start_time,end_time,start_station_id,start_lat,start_lon,end_station_id,end_lat,end_lon,bike_id,plan_duration,trip_route_category,passholder_type\r\n",
      "4001912,60,4/23/15 7:44,4/23/15 7:45,3046,39.95012,-75.14472,3046,39.95012,-75.14472,3350,30,Round Trip,Indego30\r\n",
      "\n",
      "==> data/Indego_Trips_2015Q3.csv <==\n",
      "trip_id,duration,start_time,end_time,start_station_id,start_lat,start_lon,end_station_id,end_lat,end_lon,bike_id,plan_duration,trip_route_category,passholder_type\r\n",
      "4150104,660,7/1/15 0:06,7/1/15 0:17,3068,39.93549,-75.16711,3028,39.94061,-75.14958,3712,30,One Way,Indego30\r\n",
      "\n",
      "==> data/Indego_Trips_2015Q4.csv <==\n",
      "trip_id,duration,start_time,end_time,start_station_id,start_lat,start_lon,end_station_id,end_lat,end_lon,bike_id,plan_duration,trip_route_category,passholder_type\r\n",
      "4376433,1140,10/1/15 0:04,10/1/15 0:23,3041,39.96849,-75.13546,3026,39.94138,-75.14564,3302,0,One Way,Walk-up\r\n",
      "\n",
      "==> data/Indego_Trips_2016Q1.csv <==\n",
      "trip_id,duration,start_time,end_time,start_station_id,start_lat,start_lon,end_station_id,end_lat,end_lon,bike_id,plan_duration,trip_route_category,passholder_type\r\n",
      "4516691,600,1/1/2016 0:04,1/1/2016 0:14,3046,39.95012,-75.14472,3041,39.96849,-75.13546,3564,30,One Way,Indego30\r\n",
      "\n",
      "==> data/Indego_Trips_2016Q2.csv <==\n",
      "trip_id,duration,start_time,end_time,start_station_id,start_lat,start_lon,end_station_id,end_lat,end_lon,bike_id,plan_duration,trip_route_category,passholder_type\r\n",
      "4614547,1620,4/1/2016 0:03,4/1/2016 0:30,3023,39.95048,-75.17286,3023,39.95048,-75.17286,3509,30,Round Trip,Indego30\r\n",
      "\n",
      "==> data/Indego_trips_Q4_2016.csv <==\n",
      "trip_id,duration,start_time,end_time,start_station_id,start_lat,start_lon,end_station_id,end_lat,end_lon,bike_id,plan_duration,trip_route_category,passholder_type\r\n",
      "55223952,480,10/1/2016 0:06,10/1/2016 0:14,3050,39.953388,-75.154259,3030,39.93935,-75.157158,5255,30,One Way,Indego30\r\n",
      "\n",
      "==> data/Q3_2016_trips.csv <==\n",
      "trip_id,duration,start_time,end_time,start_station_id,start_lat,start_lon,end_station_id,end_lat,end_lon,bike_id,plan_duration,trip_route_category,passholder_type\r\n",
      "25183529,240,7/1/2016 0:07,7/1/2016 0:11,3063,39.946331,-75.1698,3064,39.9384,-75.173271,3640,30,One Way,Indego30\r\n",
      "\n",
      "==> data/indego-quarter-echo.bicycletransit.com-2018-01-19-9-57 AM.csv <==\n",
      "\"trip_id\",\"duration\",\"start_time\",\"end_time\",\"start_station\",\"start_lat\",\"start_lon\",\"end_station\",\"end_lat\",\"end_lon\",\"bike_id\",\"plan_duration\",\"trip_route_category\",\"passholder_type\"\n",
      "190178259,4,\"2017-10-01 00:03:00\",\"2017-10-01 00:07:00\",3063,39.946331,-75.169800,3023,39.950481,-75.172859,\"02684\",30,\"One Way\",\"Indego30\"\n",
      "\n",
      "==> data/indego-trips-2017-q3.csv <==\n",
      "\"trip_id\",\"duration\",\"start_time\",\"end_time\",\"start_station\",\"start_lat\",\"start_lon\",\"end_station\",\"end_lat\",\"end_lon\",\"bike_id\",\"plan_duration\",\"trip_route_category\",\"passholder_type\"\n",
      "144361832,12,\"2017-07-01 00:04:00\",\"2017-07-01 00:16:00\",3160,39.956619,-75.198624,3163,39.949741,-75.180969,11883,30,\"One Way\",\"Indego30\"\n",
      "\n",
      "==> data/indego-trips-2018-q1.csv <==\n",
      "\"trip_id\",\"duration\",\"start_time\",\"end_time\",\"start_station\",\"start_lat\",\"start_lon\",\"end_station\",\"end_lat\",\"end_lon\",\"bike_id\",\"plan_duration\",\"trip_route_category\",\"passholder_type\"\n",
      "223869188,18,\"2018-01-01 00:24:00\",\"2018-01-01 00:42:00\",3124,39.952950,-75.139793,3073,39.961430,-75.152420,\"03708\",30,\"One Way\",\"Indego30\"\n",
      "\n",
      "==> data/indego_gbfs_trips_Q1_2017.csv <==\n",
      "trip_id,duration,start_time,end_time,start_station_id,start_lat,start_lon,end_station_id,end_lat,end_lon,bike_id,plan_duration,trip_route_category,passholder_type\r\n",
      "87535955,660,1/1/2017 0:05,1/1/2017 0:16,3046,39.950119,-75.144722,3041,39.968491,-75.13546,5347,30,One Way,Indego30\r\n",
      "\n",
      "==> data/indego_gbfs_trips_Q2_2017.csv <==\n",
      "\"trip_id\",\"duration\",\"start_time\",\"end_time\",\"start_station\",\"start_lat\",\"start_lon\",\"end_station\",\"end_lat\",\"end_lon\",\"bike_id\",\"plan_duration\",\"trip_route_category\",\"passholder_type\"\n",
      "106996584,8,\"2017-04-01 00:04:00\",\"2017-04-01 00:12:00\",3060,39.959229,-75.170357,3045,39.947922,-75.162369,\"02554\",30,\"One Way\",\"Indego30\"\n"
     ]
    }
   ],
   "source": [
    "%%bash\n",
    "cat data/*.csv | wc -l\n",
    "head -2 data/*.csv"
   ]
  },
  {
   "cell_type": "markdown",
   "metadata": {},
   "source": [
    "### Merge all csv files into a single data frame"
   ]
  },
  {
   "cell_type": "code",
   "execution_count": 7,
   "metadata": {
    "collapsed": true
   },
   "outputs": [],
   "source": [
    "col_names = [\"trip_id\",\"duration\",\"start_time\",\"end_time\",\"start_station\",\"start_lat\",\"start_lon\",\"end_station\",\"end_lat\",\"end_lon\",\"bike_id\",\"plan_duration\",\"trip_route_category\",\"passholder_type\"]"
   ]
  },
  {
   "cell_type": "markdown",
   "metadata": {},
   "source": [
    "#### The datetime format will be also synchronized as a standard format"
   ]
  },
  {
   "cell_type": "code",
   "execution_count": 73,
   "metadata": {},
   "outputs": [
    {
     "name": "stdout",
     "output_type": "stream",
     "text": [
      "data/Q3_2016_trips.csv (234946, 14)\n",
      "count    234946.000000\n",
      "mean         22.392197\n",
      "std          58.963784\n",
      "min           1.000000\n",
      "25%           8.000000\n",
      "50%          12.000000\n",
      "75%          20.000000\n",
      "max        1440.000000\n",
      "Name: duration, dtype: float64\n",
      "data/indego-trips-2018-q1.csv (98993, 14)\n",
      "count    98993.000000\n",
      "mean        20.656754\n",
      "std         77.190572\n",
      "min          1.000000\n",
      "25%          7.000000\n",
      "50%         10.000000\n",
      "75%         16.000000\n",
      "max       1440.000000\n",
      "Name: duration, dtype: float64\n",
      "data/indego-quarter-echo.bicycletransit.com-2018-01-19-9-57 AM.csv (183909, 14)\n",
      "count    183909.000000\n",
      "mean         19.846054\n",
      "std          63.786005\n",
      "min           1.000000\n",
      "25%           7.000000\n",
      "50%          11.000000\n",
      "75%          17.000000\n",
      "max        1440.000000\n",
      "Name: duration, dtype: float64\n",
      "data/indego_gbfs_trips_Q1_2017.csv (107772, 14)\n",
      "count    107772.000000\n",
      "mean         20.217496\n",
      "std          70.158835\n",
      "min           1.000000\n",
      "25%           7.000000\n",
      "50%          10.000000\n",
      "75%          16.000000\n",
      "max        1440.000000\n",
      "Name: duration, dtype: float64\n",
      "data/Indego_trips_Q4_2016.csv (176119, 14)\n",
      "count    176119.000000\n",
      "mean         20.591662\n",
      "std          62.950382\n",
      "min           1.000000\n",
      "25%           7.000000\n",
      "50%          11.000000\n",
      "75%          18.000000\n",
      "max        1440.000000\n",
      "Name: duration, dtype: float64\n",
      "data/indego-trips-2017-q3.csv (276785, 14)\n",
      "count    276785.000000\n",
      "mean         21.899420\n",
      "std          62.404585\n",
      "min           1.000000\n",
      "25%           8.000000\n",
      "50%          12.000000\n",
      "75%          20.000000\n",
      "max        1440.000000\n",
      "Name: duration, dtype: float64\n",
      "data/Indego_Trips_2016Q1.csv (73169, 14)\n",
      "count    73169.000000\n",
      "mean        23.760855\n",
      "std         81.804078\n",
      "min          1.000000\n",
      "25%          7.000000\n",
      "50%         12.000000\n",
      "75%         20.000000\n",
      "max       1440.000000\n",
      "Name: duration, dtype: float64\n",
      "data/Indego_Trips_2016Q2.csv (170824, 14)\n",
      "count    170824.000000\n",
      "mean         25.517082\n",
      "std          78.226803\n",
      "min           1.000000\n",
      "25%           8.000000\n",
      "50%          13.000000\n",
      "75%          21.000000\n",
      "max        1440.000000\n",
      "Name: duration, dtype: float64\n",
      "data/indego_gbfs_trips_Q2_2017.csv (220441, 14)\n",
      "count    220441.000000\n",
      "mean         22.228950\n",
      "std          63.451299\n",
      "min           1.000000\n",
      "25%           8.000000\n",
      "50%          12.000000\n",
      "75%          20.000000\n",
      "max        1440.000000\n",
      "Name: duration, dtype: float64\n",
      "data/Indego_Trips_2015Q4.csv (121783, 14)\n",
      "count    121783.000000\n",
      "mean         21.336829\n",
      "std          64.579690\n",
      "min           1.000000\n",
      "25%           8.000000\n",
      "50%          12.000000\n",
      "75%          18.000000\n",
      "max        1440.000000\n",
      "Name: duration, dtype: float64\n",
      "data/Indego_Trips_2015Q3.csv (188368, 14)\n",
      "count    188368.000000\n",
      "mean         25.805418\n",
      "std          66.884530\n",
      "min           1.000000\n",
      "25%           8.000000\n",
      "50%          13.000000\n",
      "75%          23.000000\n",
      "max        1440.000000\n",
      "Name: duration, dtype: float64\n",
      "data/Indego_Trips_2015Q2.csv (119559, 14)\n",
      "count    119559.000000\n",
      "mean         33.579187\n",
      "std          89.949781\n",
      "min           1.000000\n",
      "25%          10.000000\n",
      "50%          15.000000\n",
      "75%          27.000000\n",
      "max        1440.000000\n",
      "Name: duration, dtype: float64\n",
      "The total number of rows are 1972668.\n"
     ]
    }
   ],
   "source": [
    "all_files = glob.glob(data_path + \"*.csv\")\n",
    "row_num = 0\n",
    "df_total = pd.DataFrame()\n",
    "for file in all_files:\n",
    "\n",
    "    df = pd.read_csv(file, index_col=None, header=0, names=col_names, na_values=\"\\\\N\", low_memory=False, error_bad_lines=False)\n",
    "    if \"2015\" in file:\n",
    "        df[\"start_time\"] = pd.to_datetime(df[\"start_time\"], format=\"%m/%d/%y %H:%M\")\n",
    "        df[\"end_time\"] = pd.to_datetime(df[\"end_time\"], format=\"%m/%d/%y %H:%M\")\n",
    "    elif \"2016\" in file or \"Q1_2017\" in file: \n",
    "        df[\"start_time\"] = pd.to_datetime(df[\"start_time\"], format=\"%m/%d/%Y %H:%M\")\n",
    "        df[\"end_time\"] = pd.to_datetime(df[\"end_time\"], format=\"%m/%d/%Y %H:%M\")\n",
    "    else:\n",
    "        df[\"start_time\"] = pd.to_datetime(df[\"start_time\"], format=\"%Y-%m-%d %H:%M:%S\")\n",
    "        df[\"end_time\"] = pd.to_datetime(df[\"end_time\"], format=\"%Y-%m-%d %H:%M:%S\")\n",
    "\n",
    "    # some durations are recorded in seconds\n",
    "    if df.duration.max() == 86400:\n",
    "        df.duration = df.duration/60\n",
    "        \n",
    "    print(file, df.shape)\n",
    "    print(df.duration.describe())\n",
    "    row_num += df.shape[0]  \n",
    "    df_total = df_total.append(df)\n",
    "\n",
    "print(\"The total number of rows are %d.\" % row_num)"
   ]
  },
  {
   "cell_type": "markdown",
   "metadata": {},
   "source": [
    "#### Check dataframe basic information"
   ]
  },
  {
   "cell_type": "code",
   "execution_count": 74,
   "metadata": {},
   "outputs": [
    {
     "name": "stdout",
     "output_type": "stream",
     "text": [
      "<class 'pandas.core.frame.DataFrame'>\n",
      "Int64Index: 1972668 entries, 0 to 119558\n",
      "Data columns (total 14 columns):\n",
      "trip_id                int64\n",
      "duration               float64\n",
      "start_time             datetime64[ns]\n",
      "end_time               datetime64[ns]\n",
      "start_station          float64\n",
      "start_lat              float64\n",
      "start_lon              float64\n",
      "end_station            int64\n",
      "end_lat                float64\n",
      "end_lon                float64\n",
      "bike_id                object\n",
      "plan_duration          int64\n",
      "trip_route_category    object\n",
      "passholder_type        object\n",
      "dtypes: datetime64[ns](2), float64(6), int64(3), object(3)\n",
      "memory usage: 495.3 MB\n"
     ]
    }
   ],
   "source": [
    "df_total.info(memory_usage='deep')"
   ]
  },
  {
   "cell_type": "code",
   "execution_count": 75,
   "metadata": {},
   "outputs": [
    {
     "data": {
      "text/html": [
       "<div>\n",
       "<style scoped>\n",
       "    .dataframe tbody tr th:only-of-type {\n",
       "        vertical-align: middle;\n",
       "    }\n",
       "\n",
       "    .dataframe tbody tr th {\n",
       "        vertical-align: top;\n",
       "    }\n",
       "\n",
       "    .dataframe thead th {\n",
       "        text-align: right;\n",
       "    }\n",
       "</style>\n",
       "<table border=\"1\" class=\"dataframe\">\n",
       "  <thead>\n",
       "    <tr style=\"text-align: right;\">\n",
       "      <th></th>\n",
       "      <th>trip_id</th>\n",
       "      <th>duration</th>\n",
       "      <th>start_station</th>\n",
       "      <th>start_lat</th>\n",
       "      <th>start_lon</th>\n",
       "      <th>end_station</th>\n",
       "      <th>end_lat</th>\n",
       "      <th>end_lon</th>\n",
       "      <th>plan_duration</th>\n",
       "    </tr>\n",
       "  </thead>\n",
       "  <tbody>\n",
       "    <tr>\n",
       "      <th>count</th>\n",
       "      <td>1.972668e+06</td>\n",
       "      <td>1.972668e+06</td>\n",
       "      <td>1.972658e+06</td>\n",
       "      <td>1.972481e+06</td>\n",
       "      <td>1.972481e+06</td>\n",
       "      <td>1.972668e+06</td>\n",
       "      <td>1.962227e+06</td>\n",
       "      <td>1.962227e+06</td>\n",
       "      <td>1.972668e+06</td>\n",
       "    </tr>\n",
       "    <tr>\n",
       "      <th>mean</th>\n",
       "      <td>8.634779e+07</td>\n",
       "      <td>2.296095e+01</td>\n",
       "      <td>3.050590e+03</td>\n",
       "      <td>3.995139e+01</td>\n",
       "      <td>-7.516700e+01</td>\n",
       "      <td>3.090188e+03</td>\n",
       "      <td>3.983508e+01</td>\n",
       "      <td>-7.494811e+01</td>\n",
       "      <td>3.230585e+01</td>\n",
       "    </tr>\n",
       "    <tr>\n",
       "      <th>std</th>\n",
       "      <td>7.838865e+07</td>\n",
       "      <td>6.837574e+01</td>\n",
       "      <td>1.787423e+02</td>\n",
       "      <td>2.054352e-01</td>\n",
       "      <td>3.862940e-01</td>\n",
       "      <td>1.882986e+03</td>\n",
       "      <td>2.158820e+00</td>\n",
       "      <td>4.061713e+00</td>\n",
       "      <td>5.065907e+01</td>\n",
       "    </tr>\n",
       "    <tr>\n",
       "      <th>min</th>\n",
       "      <td>4.001912e+06</td>\n",
       "      <td>1.000000e+00</td>\n",
       "      <td>3.000000e+03</td>\n",
       "      <td>0.000000e+00</td>\n",
       "      <td>-7.522399e+01</td>\n",
       "      <td>3.000000e+03</td>\n",
       "      <td>0.000000e+00</td>\n",
       "      <td>-7.522399e+01</td>\n",
       "      <td>0.000000e+00</td>\n",
       "    </tr>\n",
       "    <tr>\n",
       "      <th>25%</th>\n",
       "      <td>4.603069e+06</td>\n",
       "      <td>8.000000e+00</td>\n",
       "      <td>3.023000e+03</td>\n",
       "      <td>3.994561e+01</td>\n",
       "      <td>-7.517952e+01</td>\n",
       "      <td>3.022000e+03</td>\n",
       "      <td>3.994527e+01</td>\n",
       "      <td>-7.517939e+01</td>\n",
       "      <td>3.000000e+01</td>\n",
       "    </tr>\n",
       "    <tr>\n",
       "      <th>50%</th>\n",
       "      <td>6.878324e+07</td>\n",
       "      <td>1.200000e+01</td>\n",
       "      <td>3.045000e+03</td>\n",
       "      <td>3.995112e+01</td>\n",
       "      <td>-7.516757e+01</td>\n",
       "      <td>3.045000e+03</td>\n",
       "      <td>3.995071e+01</td>\n",
       "      <td>-7.516711e+01</td>\n",
       "      <td>3.000000e+01</td>\n",
       "    </tr>\n",
       "    <tr>\n",
       "      <th>75%</th>\n",
       "      <td>1.553484e+08</td>\n",
       "      <td>2.000000e+01</td>\n",
       "      <td>3.066000e+03</td>\n",
       "      <td>3.995923e+01</td>\n",
       "      <td>-7.515813e+01</td>\n",
       "      <td>3.064000e+03</td>\n",
       "      <td>3.995662e+01</td>\n",
       "      <td>-7.515716e+01</td>\n",
       "      <td>3.000000e+01</td>\n",
       "    </tr>\n",
       "    <tr>\n",
       "      <th>max</th>\n",
       "      <td>2.426904e+08</td>\n",
       "      <td>1.440000e+03</td>\n",
       "      <td>9.001800e+04</td>\n",
       "      <td>3.999179e+01</td>\n",
       "      <td>0.000000e+00</td>\n",
       "      <td>9.025500e+04</td>\n",
       "      <td>3.999179e+01</td>\n",
       "      <td>0.000000e+00</td>\n",
       "      <td>3.650000e+02</td>\n",
       "    </tr>\n",
       "  </tbody>\n",
       "</table>\n",
       "</div>"
      ],
      "text/plain": [
       "            trip_id      duration  start_station     start_lat     start_lon  \\\n",
       "count  1.972668e+06  1.972668e+06   1.972658e+06  1.972481e+06  1.972481e+06   \n",
       "mean   8.634779e+07  2.296095e+01   3.050590e+03  3.995139e+01 -7.516700e+01   \n",
       "std    7.838865e+07  6.837574e+01   1.787423e+02  2.054352e-01  3.862940e-01   \n",
       "min    4.001912e+06  1.000000e+00   3.000000e+03  0.000000e+00 -7.522399e+01   \n",
       "25%    4.603069e+06  8.000000e+00   3.023000e+03  3.994561e+01 -7.517952e+01   \n",
       "50%    6.878324e+07  1.200000e+01   3.045000e+03  3.995112e+01 -7.516757e+01   \n",
       "75%    1.553484e+08  2.000000e+01   3.066000e+03  3.995923e+01 -7.515813e+01   \n",
       "max    2.426904e+08  1.440000e+03   9.001800e+04  3.999179e+01  0.000000e+00   \n",
       "\n",
       "        end_station       end_lat       end_lon  plan_duration  \n",
       "count  1.972668e+06  1.962227e+06  1.962227e+06   1.972668e+06  \n",
       "mean   3.090188e+03  3.983508e+01 -7.494811e+01   3.230585e+01  \n",
       "std    1.882986e+03  2.158820e+00  4.061713e+00   5.065907e+01  \n",
       "min    3.000000e+03  0.000000e+00 -7.522399e+01   0.000000e+00  \n",
       "25%    3.022000e+03  3.994527e+01 -7.517939e+01   3.000000e+01  \n",
       "50%    3.045000e+03  3.995071e+01 -7.516711e+01   3.000000e+01  \n",
       "75%    3.064000e+03  3.995662e+01 -7.515716e+01   3.000000e+01  \n",
       "max    9.025500e+04  3.999179e+01  0.000000e+00   3.650000e+02  "
      ]
     },
     "execution_count": 75,
     "metadata": {},
     "output_type": "execute_result"
    }
   ],
   "source": [
    "df_total.describe()"
   ]
  },
  {
   "cell_type": "markdown",
   "metadata": {},
   "source": [
    "#### Check NA values"
   ]
  },
  {
   "cell_type": "code",
   "execution_count": 76,
   "metadata": {},
   "outputs": [
    {
     "data": {
      "text/plain": [
       "trip_id                    0\n",
       "duration                   0\n",
       "start_time                 0\n",
       "end_time                   0\n",
       "start_station             10\n",
       "start_lat                187\n",
       "start_lon                187\n",
       "end_station                0\n",
       "end_lat                10441\n",
       "end_lon                10441\n",
       "bike_id                  910\n",
       "plan_duration              0\n",
       "trip_route_category        0\n",
       "passholder_type            0\n",
       "dtype: int64"
      ]
     },
     "execution_count": 76,
     "metadata": {},
     "output_type": "execute_result"
    }
   ],
   "source": [
    "df_total.isnull().sum()"
   ]
  },
  {
   "cell_type": "markdown",
   "metadata": {},
   "source": [
    "#### Output dataframe to python pickle file"
   ]
  },
  {
   "cell_type": "code",
   "execution_count": 77,
   "metadata": {
    "collapsed": true
   },
   "outputs": [],
   "source": [
    "df_total.to_pickle('indego_df.pkl') "
   ]
  },
  {
   "cell_type": "code",
   "execution_count": null,
   "metadata": {
    "collapsed": true
   },
   "outputs": [],
   "source": []
  }
 ],
 "metadata": {
  "kernelspec": {
   "display_name": "Python 3",
   "language": "python",
   "name": "python3"
  },
  "language_info": {
   "codemirror_mode": {
    "name": "ipython",
    "version": 3
   },
   "file_extension": ".py",
   "mimetype": "text/x-python",
   "name": "python",
   "nbconvert_exporter": "python",
   "pygments_lexer": "ipython3",
   "version": "3.6.3"
  }
 },
 "nbformat": 4,
 "nbformat_minor": 2
}
