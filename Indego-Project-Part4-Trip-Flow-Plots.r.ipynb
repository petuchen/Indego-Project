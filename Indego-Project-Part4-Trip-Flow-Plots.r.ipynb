{
 "cells": [
  {
   "cell_type": "markdown",
   "metadata": {},
   "source": [
    "## Bike Trip Flow Plots in R"
   ]
  },
  {
   "cell_type": "code",
   "execution_count": 1,
   "metadata": {
    "collapsed": true
   },
   "outputs": [],
   "source": [
    "options(jupyter.plot_mimetypes = c(\"text/plain\", \"image/png\"))"
   ]
  },
  {
   "cell_type": "code",
   "execution_count": 3,
   "metadata": {},
   "outputs": [],
   "source": [
    "library(osmplotr)\n",
    "library(dodgr)\n",
    "library(osmdata)\n",
    "library(ggplot2)\n",
    "library(magrittr)"
   ]
  },
  {
   "cell_type": "code",
   "execution_count": 29,
   "metadata": {
    "collapsed": true
   },
   "outputs": [],
   "source": [
    "# file_list <- c('2016Q3')\n",
    "file_list <- c('2016Q3','2018Q1','2017Q4','2017Q1','2016Q4','2017Q3','2016Q1','2016Q2','2017Q2','2015Q4','2015Q3','2015Q2')"
   ]
  },
  {
   "cell_type": "code",
   "execution_count": 30,
   "metadata": {
    "collapsed": true
   },
   "outputs": [],
   "source": [
    "cols <- colorRampPalette(c(\"blue\", \"cyan\"))(10)"
   ]
  },
  {
   "cell_type": "code",
   "execution_count": 11,
   "metadata": {},
   "outputs": [
    {
     "name": "stderr",
     "output_type": "stream",
     "text": [
      "add_feature() is deprecated; please use add_osm_feature()\n"
     ]
    }
   ],
   "source": [
    "bb <- get_bbox(c(-75.23, 39.91, -75.10, 40.00))\n",
    "dat_B <- extract_osm_objects(key=\"building\", bbox=bb)"
   ]
  },
  {
   "cell_type": "code",
   "execution_count": 31,
   "metadata": {},
   "outputs": [],
   "source": [
    "for (file in file_list){\n",
    "    stns <- read.csv('station.csv')\n",
    "    xy <- stns[, which(names(stns) %in% c(\"start_lon\", \"start_lat\"))]\n",
    "    \n",
    "    path <- paste(file, \"flow.csv\", sep=\"-\")\n",
    "    trips <- read.csv(path, row.names = 1)\n",
    "    trips[is.na(trips)] <- 0\n",
    "    indx <- match(as.character(stns$start_station), rownames(trips))\n",
    "    indx <- indx[!is.na(indx)]\n",
    "    trips <- trips[indx, indx]\n",
    "    xy <- xy[indx,]\n",
    "    \n",
    "    net <- dodgr_streetnet(pts = xy, expand = 0.05) %>% weight_streetnet(wt_profile = \"bicycle\")\n",
    "    verts <- dodgr_vertices(net)\n",
    "    pts <- verts$id[match_pts_to_graph(verts, xy)]\n",
    "\n",
    "    flow <- dodgr_flows(net, from = pts, to = pts, flow = trips) %>% merge_directed_flows()\n",
    "    net <- net[flow$edge_id, ]\n",
    "    net$flow <- flow$flow\n",
    "    \n",
    "    map <- osm_basemap(bb, bg = \"grey20\") %>%\n",
    "    add_osm_objects(dat_B, col=\"grey40\") %>%\n",
    "    add_colourbar(zlims = range(net$flow), col = cols)\n",
    "\n",
    "    map <- map + geom_segment(data = net, size = net$flow/5000, \n",
    "                           aes(x = from_lon, y = from_lat, xend = to_lon, yend = to_lat,\n",
    "                           colour = flow, size = flow)) + \n",
    "    scale_colour_gradient(low = \"blue\", high = \"cyan\", guide = \"none\") +\n",
    "    annotate(\"text\", label = file, x = -75.109, y = 39.995, color = \"white\")\n",
    "    mapname = paste(file, \"flow.png\", sep=\"-\")\n",
    "    print_osm_map(map, file=mapname)\n",
    "}"
   ]
  },
  {
   "cell_type": "code",
   "execution_count": null,
   "metadata": {
    "collapsed": true
   },
   "outputs": [],
   "source": []
  }
 ],
 "metadata": {
  "kernelspec": {
   "display_name": "R",
   "language": "R",
   "name": "ir"
  },
  "language_info": {
   "codemirror_mode": "r",
   "file_extension": ".r",
   "mimetype": "text/x-r-source",
   "name": "R",
   "pygments_lexer": "r",
   "version": "3.4.1"
  }
 },
 "nbformat": 4,
 "nbformat_minor": 2
}
